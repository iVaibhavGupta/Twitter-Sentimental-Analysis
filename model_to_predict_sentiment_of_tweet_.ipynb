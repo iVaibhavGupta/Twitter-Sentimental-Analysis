{
  "nbformat": 4,
  "nbformat_minor": 0,
  "metadata": {
    "colab": {
      "provenance": []
    },
    "kernelspec": {
      "name": "python3",
      "display_name": "Python 3"
    },
    "language_info": {
      "name": "python"
    }
  },
  "cells": [
    {
      "cell_type": "code",
      "execution_count": null,
      "metadata": {
        "colab": {
          "base_uri": "https://localhost:8080/"
        },
        "id": "hYYDEATRKyDf",
        "outputId": "9744bc89-dd01-4347-b5a3-7fc854f3fa7b"
      },
      "outputs": [
        {
          "output_type": "stream",
          "name": "stdout",
          "text": [
            "Drive already mounted at /content/drive; to attempt to forcibly remount, call drive.mount(\"/content/drive\", force_remount=True).\n",
            "Model loaded successfully!\n"
          ]
        }
      ],
      "source": [
        "from google.colab import drive\n",
        "drive.mount('/content/drive')\n",
        "\n",
        "import pickle\n",
        "\n",
        "# Load the trained model\n",
        "model_path = \"/content/drive/MyDrive/trained_model_sentiment_analysis.sav\"\n",
        "\n",
        "with open(model_path, \"rb\") as file:\n",
        "    model = pickle.load(file)\n",
        "\n",
        "print(\"Model loaded successfully!\")\n"
      ]
    },
    {
      "cell_type": "markdown",
      "source": [
        "convert text data into numerical data"
      ],
      "metadata": {
        "id": "n1jSVdsTQ5eG"
      }
    },
    {
      "cell_type": "code",
      "source": [
        "from sklearn.feature_extraction.text import CountVectorizer, TfidfVectorizer\n",
        "vectorizer_path = \"/content/drive/MyDrive/vectorizer.sav\"\n",
        "with open(vectorizer_path, \"rb\") as file:\n",
        "    vectorizer = pickle.load(file)"
      ],
      "metadata": {
        "id": "P4TeNJNESRcB"
      },
      "execution_count": null,
      "outputs": []
    },
    {
      "cell_type": "code",
      "source": [
        "def preprocess_tweet(tweet):\n",
        "    return vectorizer.transform([tweet])  # Convert text to numerical format\n"
      ],
      "metadata": {
        "id": "GCQXLtZ3QVD5"
      },
      "execution_count": null,
      "outputs": []
    },
    {
      "cell_type": "markdown",
      "source": [
        "define the prediction function"
      ],
      "metadata": {
        "id": "s3Oazxb0RTNA"
      }
    },
    {
      "cell_type": "code",
      "source": [
        "def predict_sentiment(tweet):\n",
        "    processed_tweet = preprocess_tweet(tweet)\n",
        "    prediction = model.predict(processed_tweet)\n",
        "\n",
        "    # Assuming 1 = Positive, 0 = Negative (Change if needed)\n",
        "    return \"Positive 😊\" if prediction == 1 else \"Negative 😢\"\n"
      ],
      "metadata": {
        "id": "DKcK2LOdRO-a"
      },
      "execution_count": null,
      "outputs": []
    },
    {
      "cell_type": "code",
      "source": [
        "user_tweet = input(\"Enter a tweet: \")\n",
        "sentiment = predict_sentiment(user_tweet)\n",
        "print(f\"Predicted Sentiment: {sentiment}\")\n"
      ],
      "metadata": {
        "colab": {
          "base_uri": "https://localhost:8080/"
        },
        "id": "syCRSOTkRhkd",
        "outputId": "ff4d1b58-a9d1-4681-ec0d-517637430549"
      },
      "execution_count": null,
      "outputs": [
        {
          "output_type": "stream",
          "name": "stdout",
          "text": [
            "Enter a tweet: i love pratibha\n",
            "Predicted Sentiment: Positive 😊\n"
          ]
        }
      ]
    }
  ]
}